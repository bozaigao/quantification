{
 "cells": [
  {
   "cell_type": "code",
   "execution_count": 8,
   "id": "114f033a-396c-4b71-8864-d23f9398a6f6",
   "metadata": {},
   "outputs": [
    {
     "ename": "AnalyzeExit",
     "evalue": "Terminating analyze.py execution",
     "output_type": "error",
     "traceback": [
      "\u001b[0;31m---------------------------------------------------------------------------\u001b[0m",
      "\u001b[0;31mAnalyzeExit\u001b[0m                               Traceback (most recent call last)",
      "Cell \u001b[0;32mIn[8], line 56\u001b[0m\n\u001b[1;32m     54\u001b[0m result \u001b[38;5;241m=\u001b[39m compare_dates(date1, date2)\n\u001b[1;32m     55\u001b[0m \u001b[38;5;28;01mif\u001b[39;00m result \u001b[38;5;241m==\u001b[39m \u001b[38;5;241m1\u001b[39m:\n\u001b[0;32m---> 56\u001b[0m    \u001b[38;5;28;01mraise\u001b[39;00m AnalyzeExit(\u001b[38;5;124m\"\u001b[39m\u001b[38;5;124mTerminating analyze.py execution\u001b[39m\u001b[38;5;124m\"\u001b[39m)\n\u001b[1;32m     58\u001b[0m \u001b[38;5;66;03m# 获取指定日期范围内的工作日日期\u001b[39;00m\n\u001b[1;32m     59\u001b[0m workdays \u001b[38;5;241m=\u001b[39m calendar\u001b[38;5;241m.\u001b[39mvalid_days(start_date\u001b[38;5;241m=\u001b[39mstart_date, end_date\u001b[38;5;241m=\u001b[39mend_date)\n",
      "\u001b[0;31mAnalyzeExit\u001b[0m: Terminating analyze.py execution"
     ]
    }
   ],
   "source": [
    "import json\n",
    "import pandas as pd\n",
    "import numpy as np\n",
    "import tensorflow as tf\n",
    "from tensorflow.keras.models import Sequential\n",
    "from tensorflow.keras.layers import LSTM, Dense, Dropout\n",
    "from sklearn.model_selection import train_test_split\n",
    "from sklearn.preprocessing import StandardScaler\n",
    "\n",
    "# 读取JSON数据\n",
    "with open('./full_data/2024_stock_backtest_data.json', 'r') as f:\n",
    "    data = json.load(f)\n",
    "\n",
    "# 数据预处理\n",
    "stock_data = []\n",
    "for entry in data:\n",
    "    for stock in entry['data']:\n",
    "        stock_data.append({\n",
    "            'date': entry['date'],\n",
    "            'code': stock['code'],\n",
    "            'price': float(stock['price']),\n",
    "            'market_value': float(stock['market_value'].replace('亿', '')) * 1e8,\n",
    "            'limit_ups': stock['limit_ups'],\n",
    "            'limit_downs': stock['limit_downs'],\n",
    "            'current_opening_increase': float(stock['current_opening_increase'].replace('%', '')) / 100,\n",
    "            'next_opening_increase': float(stock['next_opening_increase'].replace('%', '')) / 100,\n",
    "            'next_close_increase': float(stock['next_close_increase'])\n",
    "        })\n",
    "\n",
    "df = pd.DataFrame(stock_data)\n",
    "\n",
    "# 特征提取\n",
    "df['price_diff'] = df['price'].diff()\n",
    "df['price_pct_change'] = df['price'].pct_change()\n",
    "df['market_value_diff'] = df['market_value'].diff()\n",
    "\n",
    "# 数据标准化\n",
    "scaler = StandardScaler()\n",
    "scaled_features = scaler.fit_transform(df[['price', 'price_diff', 'price_pct_change', 'market_value', 'market_value_diff']])\n",
    "\n",
    "# 划分数据集\n",
    "X = scaled_features[:-1]\n",
    "y = df['next_close_increase'][1:]\n",
    "\n",
    "X_train, X_test, y_train, y_test = train_test_split(X, y, test_size=0.2, random_state=42)\n",
    "\n",
    "# 构建LSTM模型\n",
    "model = Sequential()\n",
    "model.add(LSTM(50, return_sequences=True, input_shape=(X_train.shape[1], 1)))\n",
    "model.add(Dropout(0.2))\n",
    "model.add(LSTM(50, return_sequences=False))\n",
    "model.add(Dropout(0.2))\n",
    "model.add(Dense(1))\n",
    "\n",
    "model.compile(optimizer='adam', loss='mse')\n",
    "model.summary()\n",
    "\n",
    "# 训练模型\n",
    "X_train_reshaped = np.reshape(X_train, (X_train.shape[0], X_train.shape[1], 1))\n",
    "X_test_reshaped = np.reshape(X_test, (X_test.shape[0], X_test.shape[1], 1))\n",
    "\n",
    "model.fit(X_train_reshaped, y_train, epochs=50, batch_size=32, validation_data=(X_test_reshaped, y_test))\n",
    "\n",
    "# 评估模型\n",
    "predictions = model.predict(X_test_reshaped)\n",
    "print(\"模型评估：\")\n",
    "print(\"均方误差（MSE）：\", np.mean((predictions - y_test)**2))\n",
    "\n",
    "# 保存模型\n",
    "model.save('stock_prediction_model.h5')\n"
   ]
  }
 ],
 "metadata": {
  "kernelspec": {
   "display_name": "Python 3 (ipykernel)",
   "language": "python",
   "name": "python3"
  },
  "language_info": {
   "codemirror_mode": {
    "name": "ipython",
    "version": 3
   },
   "file_extension": ".py",
   "mimetype": "text/x-python",
   "name": "python",
   "nbconvert_exporter": "python",
   "pygments_lexer": "ipython3",
   "version": "3.12.4"
  }
 },
 "nbformat": 4,
 "nbformat_minor": 5
}
