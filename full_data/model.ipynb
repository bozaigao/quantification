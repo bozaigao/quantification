{
 "cells": [
  {
   "cell_type": "code",
   "execution_count": 8,
   "id": "114f033a-396c-4b71-8864-d23f9398a6f6",
   "metadata": {},
   "outputs": [
    {
     "ename": "AnalyzeExit",
     "evalue": "Terminating analyze.py execution",
     "output_type": "error",
     "traceback": [
      "\u001b[0;31m---------------------------------------------------------------------------\u001b[0m",
      "\u001b[0;31mAnalyzeExit\u001b[0m                               Traceback (most recent call last)",
      "Cell \u001b[0;32mIn[8], line 56\u001b[0m\n\u001b[1;32m     54\u001b[0m result \u001b[38;5;241m=\u001b[39m compare_dates(date1, date2)\n\u001b[1;32m     55\u001b[0m \u001b[38;5;28;01mif\u001b[39;00m result \u001b[38;5;241m==\u001b[39m \u001b[38;5;241m1\u001b[39m:\n\u001b[0;32m---> 56\u001b[0m    \u001b[38;5;28;01mraise\u001b[39;00m AnalyzeExit(\u001b[38;5;124m\"\u001b[39m\u001b[38;5;124mTerminating analyze.py execution\u001b[39m\u001b[38;5;124m\"\u001b[39m)\n\u001b[1;32m     58\u001b[0m \u001b[38;5;66;03m# 获取指定日期范围内的工作日日期\u001b[39;00m\n\u001b[1;32m     59\u001b[0m workdays \u001b[38;5;241m=\u001b[39m calendar\u001b[38;5;241m.\u001b[39mvalid_days(start_date\u001b[38;5;241m=\u001b[39mstart_date, end_date\u001b[38;5;241m=\u001b[39mend_date)\n",
      "\u001b[0;31mAnalyzeExit\u001b[0m: Terminating analyze.py execution"
     ]
    }
   ],
   "source": [
    "import pandas as pd\n",
    "import numpy as np\n",
    "import tensorflow as tf\n",
    "from tensorflow.keras.models import Sequential\n",
    "from tensorflow.keras.layers import Dense, LSTM\n",
    "\n",
    "# 读取数据\n",
    "data = pd.read_csv('/mnt/data/data.txt')\n",
    "\n",
    "# 特征工程\n",
    "data['moving_avg'] = data['price'].rolling(window=5).mean()\n",
    "data['return'] = data['price'].pct_change()\n",
    "\n",
    "# 标签生成\n",
    "data['target'] = np.where(data['return'] > 0, 1, 0)\n",
    "\n",
    "# 数据拆分\n",
    "train_data = data[data['date'] < '2023-01-01']\n",
    "test_data = data[data['date'] >= '2023-01-01']\n",
    "\n",
    "# 数据准备\n",
    "X_train = train_data[['moving_avg', 'return']].values\n",
    "y_train = train_data['target'].values\n",
    "X_test = test_data[['moving_avg', 'return']].values\n",
    "y_test = test_data['target'].values\n",
    "\n",
    "# 模型构建\n",
    "model = Sequential()\n",
    "model.add(Dense(64, input_dim=2, activation='relu'))\n",
    "model.add(Dense(32, activation='relu'))\n",
    "model.add(Dense(1, activation='sigmoid'))\n",
    "\n",
    "# 模型编译\n",
    "model.compile(loss='binary_crossentropy', optimizer='adam', metrics=['accuracy'])\n",
    "\n",
    "# 模型训练\n",
    "model.fit(X_train, y_train, epochs=10, batch_size=32, validation_data=(X_test, y_test))\n",
    "\n",
    "# 模型评估\n",
    "loss, accuracy = model.evaluate(X_test, y_test)\n",
    "print(f'Loss: {loss}, Accuracy: {accuracy}')\n",
    "\n",
    "# 生成交易信号\n",
    "test_data['prediction'] = model.predict(X_test)\n",
    "test_data['signal'] = np.where(test_data['prediction'] > 0.5, 1, 0)\n",
    "\n",
    "# 回测\n",
    "initial_capital = 100000\n",
    "test_data['portfolio_value'] = initial_capital * (1 + test_data['return'].cumsum())\n",
    "\n",
    "# 计算最终收益\n",
    "final_value = test_data['portfolio_value'].iloc[-1]\n",
    "print(f'Final Portfolio Value: {final_value}')\n"
   ]
  }
 ],
 "metadata": {
  "kernelspec": {
   "display_name": "Python 3 (ipykernel)",
   "language": "python",
   "name": "python3"
  },
  "language_info": {
   "codemirror_mode": {
    "name": "ipython",
    "version": 3
   },
   "file_extension": ".py",
   "mimetype": "text/x-python",
   "name": "python",
   "nbconvert_exporter": "python",
   "pygments_lexer": "ipython3",
   "version": "3.12.4"
  }
 },
 "nbformat": 4,
 "nbformat_minor": 5
}
